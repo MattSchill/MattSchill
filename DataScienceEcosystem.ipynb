{
 "cells": [
  {
   "cell_type": "markdown",
   "id": "ef0563fa-a8f1-48ae-a89a-da0d6082b6f1",
   "metadata": {},
   "source": [
    "# Data Science Tools and Ecosystem"
   ]
  },
  {
   "cell_type": "markdown",
   "id": "8c5a281e-56b4-43d6-acda-cd56b1978812",
   "metadata": {},
   "source": [
    "In this notebook, Data System Tools and Ecosystem are summarized"
   ]
  },
  {
   "cell_type": "markdown",
   "id": "69f1ba5b-2581-4caf-903a-c63f7110b824",
   "metadata": {},
   "source": [
    "Objectives:\n",
    "- Popular Languages\n",
    "- Common Libraries\n",
    "- Expression Evaluations"
   ]
  },
  {
   "cell_type": "markdown",
   "id": "d33b3d7e-5532-461e-ac45-b487e4579b9d",
   "metadata": {},
   "source": [
    "Some of the popular languages that Data Scientists use are:\n",
    "1.Python\n",
    "2.R\n",
    "3.SQL"
   ]
  },
  {
   "cell_type": "markdown",
   "id": "44b62ca6-da38-47e4-85cd-9250a8eb9241",
   "metadata": {},
   "source": [
    "Some of the commonly used libraries used by Data Scientists include:\n",
    "1.NumPy\n",
    "2.pandas\n",
    "3.scikit-learn "
   ]
  },
  {
   "cell_type": "markdown",
   "id": "b2adc59b-ac20-4a83-89bc-0f09948a646a",
   "metadata": {},
   "source": [
    "| Header |\n",
    "| ------ |\n",
    "| Content 1 |\n",
    "| Content 2 |"
   ]
  },
  {
   "cell_type": "markdown",
   "id": "c59c73e9-0e59-4178-8af8-110d86bb9fe5",
   "metadata": {},
   "source": [
    "### Below are a few examples of evaluating arithmetic expressions in Python"
   ]
  },
  {
   "cell_type": "code",
   "execution_count": 5,
   "id": "5745841a-48af-4bb5-8597-c3ce46830e96",
   "metadata": {},
   "outputs": [
    {
     "data": {
      "text/plain": [
       "17"
      ]
     },
     "execution_count": 5,
     "metadata": {},
     "output_type": "execute_result"
    }
   ],
   "source": [
    "## This is a simple arithmetic expression to multiply then add integers\n",
    "(3 * 4) + 5"
   ]
  },
  {
   "cell_type": "code",
   "execution_count": 6,
   "id": "bdc483b6-b8a2-4a15-ba0b-1285968cd853",
   "metadata": {},
   "outputs": [
    {
     "data": {
      "text/plain": [
       "3.3333333333333335"
      ]
     },
     "execution_count": 6,
     "metadata": {},
     "output_type": "execute_result"
    }
   ],
   "source": [
    "# This will convert 200 minutes to hours by diving by 60\n",
    "200 / 60"
   ]
  },
  {
   "cell_type": "markdown",
   "id": "620afb89-fd40-4025-8b0e-9047caca898b",
   "metadata": {},
   "source": [
    "## Author \n",
    "Matt Schilling"
   ]
  }
 ],
 "metadata": {
  "kernelspec": {
   "display_name": "Python 3 (ipykernel)",
   "language": "python",
   "name": "python3"
  },
  "language_info": {
   "codemirror_mode": {
    "name": "ipython",
    "version": 3
   },
   "file_extension": ".py",
   "mimetype": "text/x-python",
   "name": "python",
   "nbconvert_exporter": "python",
   "pygments_lexer": "ipython3",
   "version": "3.11.5"
  }
 },
 "nbformat": 4,
 "nbformat_minor": 5
}
